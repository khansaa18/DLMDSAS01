{
 "cells": [
  {
   "cell_type": "code",
   "execution_count": 2,
   "id": "34ef1f20-f03d-4424-9161-7adf1a4fb18a",
   "metadata": {},
   "outputs": [
    {
     "name": "stdout",
     "output_type": "stream",
     "text": [
      "MLE for θ: 0.032467532467532464\n",
      "Expectation of T: 0.06493506493506493\n"
     ]
    }
   ],
   "source": [
    "import numpy as np\n",
    "from scipy.stats import expon\n",
    "from scipy.optimize import minimize\n",
    "\n",
    "# Given parameters\n",
    "ξ9 = 0\n",
    "ξ10 = np.array([0, 26, 46, 64, 18])\n",
    "\n",
    "# Fit the distribution to the data\n",
    "fit_params = expon.fit(ξ10)\n",
    "\n",
    "# Maximum Likelihood Estimate of θ\n",
    "mle_theta = 1 / fit_params[1]\n",
    "\n",
    "# Expectation of T\n",
    "expectation_T = 2 * mle_theta\n",
    "\n",
    "print(f\"MLE for θ: {mle_theta}\")\n",
    "print(f\"Expectation of T: {expectation_T}\")"
   ]
  },
  {
   "cell_type": "code",
   "execution_count": null,
   "id": "b1ab537a-8fee-4f86-9f42-dc9ad2b0e3b2",
   "metadata": {},
   "outputs": [],
   "source": []
  }
 ],
 "metadata": {
  "kernelspec": {
   "display_name": "Python 3 (ipykernel)",
   "language": "python",
   "name": "python3"
  },
  "language_info": {
   "codemirror_mode": {
    "name": "ipython",
    "version": 3
   },
   "file_extension": ".py",
   "mimetype": "text/x-python",
   "name": "python",
   "nbconvert_exporter": "python",
   "pygments_lexer": "ipython3",
   "version": "3.11.4"
  }
 },
 "nbformat": 4,
 "nbformat_minor": 5
}
