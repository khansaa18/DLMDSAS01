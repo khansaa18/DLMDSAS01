{
 "cells": [
  {
   "cell_type": "code",
   "execution_count": 1,
   "id": "34ef1f20-f03d-4424-9161-7adf1a4fb18a",
   "metadata": {},
   "outputs": [
    {
     "name": "stdout",
     "output_type": "stream",
     "text": [
      "Sample mean (𝑋̄): 953.3\n",
      "Z-test statistic: -0.12743506988738462\n",
      "Critical value: -1.6448536269514729\n",
      "Reject null hypothesis: True\n"
     ]
    }
   ],
   "source": [
    "import numpy as np\n",
    "from scipy.stats import norm\n",
    "\n",
    "# Given parameters\n",
    "ξ11 = 956  # Average weight of hammers\n",
    "ξ12 = 67   # Standard deviation of hammers\n",
    "ξ13 = 1    # New system makes lower weights\n",
    "ξ14 = np.array([1031, 964, 942, 878, 964, 1024, 979, 928, 880, 943])  # Weights of newly produced hammers\n",
    "\n",
    "# Sample size\n",
    "n = len(ξ14)\n",
    "\n",
    "# Calculate the sample mean and sample standard deviation\n",
    "sample_mean = np.mean(ξ14)\n",
    "\n",
    "# Z-test statistic\n",
    "Z = (sample_mean - ξ11) / (ξ12 / np.sqrt(n))\n",
    "\n",
    "# Significance level (α)\n",
    "alpha = 0.05\n",
    "\n",
    "# Critical value for a one-tailed test\n",
    "critical_value = norm.ppf(alpha)\n",
    "\n",
    "# Decision rule\n",
    "reject_null = Z < -critical_value\n",
    "\n",
    "# Print results\n",
    "print(f\"Sample mean (𝑋̄): {sample_mean}\")\n",
    "print(f\"Z-test statistic: {Z}\")\n",
    "print(f\"Critical value: {critical_value}\")\n",
    "print(f\"Reject null hypothesis: {reject_null}\")\n"
   ]
  },
  {
   "cell_type": "code",
   "execution_count": null,
   "id": "b1ab537a-8fee-4f86-9f42-dc9ad2b0e3b2",
   "metadata": {},
   "outputs": [],
   "source": []
  }
 ],
 "metadata": {
  "kernelspec": {
   "display_name": "Python 3 (ipykernel)",
   "language": "python",
   "name": "python3"
  },
  "language_info": {
   "codemirror_mode": {
    "name": "ipython",
    "version": 3
   },
   "file_extension": ".py",
   "mimetype": "text/x-python",
   "name": "python",
   "nbconvert_exporter": "python",
   "pygments_lexer": "ipython3",
   "version": "3.11.4"
  }
 },
 "nbformat": 4,
 "nbformat_minor": 5
}
